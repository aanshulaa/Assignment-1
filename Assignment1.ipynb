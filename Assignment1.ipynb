{
 "cells": [
  {
   "cell_type": "code",
   "execution_count": 1,
   "id": "e0639572-91b5-453a-a28d-2282c650e77a",
   "metadata": {},
   "outputs": [],
   "source": [
    "#Q1"
   ]
  },
  {
   "cell_type": "code",
   "execution_count": 2,
   "id": "cc0eb996-c9ce-4bbe-b25c-c6e561c4e184",
   "metadata": {},
   "outputs": [],
   "source": [
    "# String\n",
    "my_string = \"Hello, World!\""
   ]
  },
  {
   "cell_type": "code",
   "execution_count": 4,
   "id": "c052eb7b-bbc5-4684-a140-20312b5093cf",
   "metadata": {},
   "outputs": [],
   "source": [
    "# List\n",
    "my_list = [1, 2, 3, 4, 5]"
   ]
  },
  {
   "cell_type": "code",
   "execution_count": 5,
   "id": "d86727f1-f5f4-4b40-9102-7fe9ce09b6d6",
   "metadata": {},
   "outputs": [],
   "source": [
    "# Float\n",
    "my_float = 3.14"
   ]
  },
  {
   "cell_type": "code",
   "execution_count": 6,
   "id": "6552eb79-95bd-41b9-8b6a-0ca392625d58",
   "metadata": {},
   "outputs": [],
   "source": [
    "# Tuple\n",
    "my_tuple = (10, 20, 30, 40, 50)"
   ]
  },
  {
   "cell_type": "code",
   "execution_count": 7,
   "id": "94f901b9-1087-441b-b18b-c26182c24630",
   "metadata": {},
   "outputs": [],
   "source": [
    "#Q2"
   ]
  },
  {
   "cell_type": "raw",
   "id": "a35cf523-cd00-455c-b6b6-be79faf8c33f",
   "metadata": {},
   "source": [
    " var1 = ‘ ‘: This variable contains a string literal with a single space character. Hence, the data type of var1 is a string."
   ]
  },
  {
   "cell_type": "raw",
   "id": "8a2ec59e-8edd-497f-a656-f6ae4ad8932d",
   "metadata": {},
   "source": [
    "var2 = ‘[ DS , ML , Python]’: This variable contains a string literal that represents a list as a string. However, the contents of the variable are enclosed within single quotes instead of double quotes, making it an invalid list representation. Therefore, the data type of var2 is a string."
   ]
  },
  {
   "cell_type": "raw",
   "id": "56386d13-0e4f-4c95-aa73-aeca4ae998b4",
   "metadata": {},
   "source": [
    "var3 = [ ‘DS’ , ’ML’ , ‘Python’ ]: This variable contains a list with three string elements. Each element is enclosed within single quotes, but it is still a valid list. Hence, the data type of var3 is a list."
   ]
  },
  {
   "cell_type": "raw",
   "id": "9e34bfd1-1331-4f68-8f65-668ae62ede8b",
   "metadata": {},
   "source": [
    "var4 = 1.: This variable contains a floating-point number. The presence of a decimal point signifies that it is a floating-point value. Therefore, the data type of var4 is a float."
   ]
  },
  {
   "cell_type": "code",
   "execution_count": 8,
   "id": "d519d1dc-95a0-4413-b632-dab1b62743f2",
   "metadata": {},
   "outputs": [],
   "source": [
    "#Q3"
   ]
  },
  {
   "cell_type": "raw",
   "id": "fd4ce33f-d402-4476-9586-9e98d8f28ee5",
   "metadata": {},
   "source": [
    "/ (Division Operator): The division operator is used to perform division between two numbers and obtain the quotient as a result. It is commonly used with numerical data types."
   ]
  },
  {
   "cell_type": "code",
   "execution_count": 9,
   "id": "ec547a5d-5cc1-4d5d-a77c-47bdb035cd10",
   "metadata": {},
   "outputs": [
    {
     "name": "stdout",
     "output_type": "stream",
     "text": [
      "3.3333333333333335\n"
     ]
    }
   ],
   "source": [
    "a = 10\n",
    "b = 3\n",
    "result = a / b\n",
    "print(result)\n"
   ]
  },
  {
   "cell_type": "raw",
   "id": "f2beeb1a-812a-4436-9438-9c1f08fddfce",
   "metadata": {},
   "source": [
    "% (Modulo Operator): The modulo operator returns the remainder of the division between two numbers. It is used to perform modular arithmetic operations and can be used with integers and floating-point numbers."
   ]
  },
  {
   "cell_type": "code",
   "execution_count": 10,
   "id": "5caf7153-caf9-4b17-a51c-0d3f32e9190a",
   "metadata": {},
   "outputs": [
    {
     "name": "stdout",
     "output_type": "stream",
     "text": [
      "1\n"
     ]
    }
   ],
   "source": [
    "a = 10\n",
    "b = 3\n",
    "result = a % b\n",
    "print(result)\n"
   ]
  },
  {
   "cell_type": "raw",
   "id": "1b7924a8-9c41-433c-bd68-c480c260d250",
   "metadata": {},
   "source": [
    "// (Floor Division Operator): The floor division operator performs division between two numbers and returns the quotient, rounded down to the nearest integer. It is used when we want the result to be an integer, discarding the decimal part."
   ]
  },
  {
   "cell_type": "code",
   "execution_count": 11,
   "id": "8af23be6-31b1-4ada-a8c0-9375888a40c2",
   "metadata": {},
   "outputs": [
    {
     "name": "stdout",
     "output_type": "stream",
     "text": [
      "3\n"
     ]
    }
   ],
   "source": [
    "a = 10\n",
    "b = 3\n",
    "result = a // b\n",
    "print(result)\n"
   ]
  },
  {
   "cell_type": "raw",
   "id": "6fe6bc7e-54e7-4e9f-a79e-b0cc7098821a",
   "metadata": {},
   "source": [
    "** (Exponentiation Operator): The exponentiation operator raises a number to a power. It is used to calculate the result of exponentiation and is commonly used with numerical data types."
   ]
  },
  {
   "cell_type": "code",
   "execution_count": 12,
   "id": "d1d301b0-aeaa-4017-9446-d7894b47fb65",
   "metadata": {},
   "outputs": [
    {
     "name": "stdout",
     "output_type": "stream",
     "text": [
      "8\n"
     ]
    }
   ],
   "source": [
    "a = 2\n",
    "b = 3\n",
    "result = a ** b\n",
    "print(result)\n"
   ]
  },
  {
   "cell_type": "code",
   "execution_count": null,
   "id": "3391c39d-0eda-4312-87cf-7dfb2917b630",
   "metadata": {},
   "outputs": [],
   "source": [
    "#Q4"
   ]
  },
  {
   "cell_type": "code",
   "execution_count": 14,
   "id": "d83116d8-035d-4303-9f25-e34186e2786d",
   "metadata": {},
   "outputs": [
    {
     "name": "stdout",
     "output_type": "stream",
     "text": [
      "1 <class 'int'>\n",
      "Hello <class 'str'>\n",
      "3.14 <class 'float'>\n",
      "True <class 'bool'>\n",
      "[1, 2, 3] <class 'list'>\n",
      "{'name': 'John'} <class 'dict'>\n",
      "None <class 'NoneType'>\n",
      "(4, 5, 6) <class 'tuple'>\n",
      "World <class 'str'>\n",
      "False <class 'bool'>\n"
     ]
    }
   ],
   "source": [
    "my_list = [1, 'Hello', 3.14, True, [1, 2, 3], {'name': 'John'}, None, (4, 5, 6), 'World', False]\n",
    "\n",
    "for element in my_list:\n",
    "    print(element, type(element))\n"
   ]
  },
  {
   "cell_type": "code",
   "execution_count": 15,
   "id": "13116727-2f53-498d-bedf-6314c05d6eb7",
   "metadata": {},
   "outputs": [],
   "source": [
    "#Q5"
   ]
  },
  {
   "cell_type": "code",
   "execution_count": 16,
   "id": "166b76e9-8c8e-4b14-ac8e-985b9c6a155a",
   "metadata": {},
   "outputs": [
    {
     "name": "stdout",
     "output_type": "stream",
     "text": [
      "Number A can be divided by B 2 times.\n"
     ]
    }
   ],
   "source": [
    "A = 100\n",
    "B = 5\n",
    "count = 0\n",
    "\n",
    "while A % B == 0:\n",
    "    A = A // B\n",
    "    count += 1\n",
    "\n",
    "print(\"Number A can be divided by B\", count, \"times.\")\n",
    "\n"
   ]
  },
  {
   "cell_type": "code",
   "execution_count": 17,
   "id": "b2679b7c-e070-46c0-a564-7cb986110a87",
   "metadata": {},
   "outputs": [],
   "source": [
    "#Q6"
   ]
  },
  {
   "cell_type": "code",
   "execution_count": 19,
   "id": "0d93bb28-1c80-4b6a-b241-7faa7191d637",
   "metadata": {},
   "outputs": [
    {
     "name": "stdout",
     "output_type": "stream",
     "text": [
      "7 is not divisible by 3\n",
      "12 is divisible by 3\n",
      "19 is not divisible by 3\n",
      "21 is divisible by 3\n",
      "30 is divisible by 3\n",
      "33 is divisible by 3\n",
      "42 is divisible by 3\n",
      "48 is divisible by 3\n",
      "55 is not divisible by 3\n",
      "60 is divisible by 3\n",
      "64 is not divisible by 3\n",
      "72 is divisible by 3\n",
      "78 is divisible by 3\n",
      "81 is divisible by 3\n",
      "87 is divisible by 3\n",
      "92 is not divisible by 3\n",
      "99 is divisible by 3\n",
      "102 is divisible by 3\n",
      "108 is divisible by 3\n",
      "115 is not divisible by 3\n",
      "120 is divisible by 3\n",
      "126 is divisible by 3\n",
      "131 is not divisible by 3\n",
      "138 is divisible by 3\n",
      "144 is divisible by 3\n"
     ]
    }
   ],
   "source": [
    "my_list = [7, 12, 19, 21, 30, 33, 42, 48, 55, 60, 64, 72, 78, 81, 87, 92, 99, 102, 108, 115, 120, 126, 131, 138, 144]\n",
    "\n",
    "for element in my_list:\n",
    "    if element % 3 == 0:\n",
    "        print(element, \"is divisible by 3\")\n",
    "    else:\n",
    "        print(element, \"is not divisible by 3\")\n"
   ]
  },
  {
   "cell_type": "code",
   "execution_count": 20,
   "id": "bc70c1e5-8b62-48a2-b9d8-cbd62c417e67",
   "metadata": {},
   "outputs": [],
   "source": [
    "#Q7"
   ]
  },
  {
   "cell_type": "raw",
   "id": "56fdf917-9070-4309-b063-d6117bfbfe62",
   "metadata": {},
   "source": [
    "Mutable Data Types:\n",
    "Mutable data types are those that can be modified or changed after they are created. This means that you can update, add, or remove elements within the data type without creating a new object. Changes made to mutable objects directly affect the original object in memory.\n",
    "\n",
    "Examples of mutable data types in Python:\n",
    "\n",
    "Lists: Elements can be added, removed, or modified.\n",
    "Dictionaries: Key-value pairs can be added, removed, or modified.\n",
    "Sets: Elements can be added or removed.\n",
    "Example of modifying a mutable data type (list).\n",
    "\n",
    "Immutable Data Types:\n",
    "Immutable data types, as the name suggests, are those that cannot be modified or changed once they are created. If you need to make any modifications to an immutable object, you need to create a new object with the desired changes. Immutable objects preserve their original state.\n",
    "\n",
    "Examples of immutable data types in Python:\n",
    "\n",
    "Strings: Individual characters cannot be modified.\n",
    "Numbers (int, float, complex): Values cannot be modified.\n",
    "Tuples: Elements cannot be modified.\n",
    "Example of attempting to modify an immutable data type (string"
   ]
  },
  {
   "cell_type": "code",
   "execution_count": 21,
   "id": "6be286dc-769b-45f8-a078-151a20835e52",
   "metadata": {},
   "outputs": [
    {
     "name": "stdout",
     "output_type": "stream",
     "text": [
      "[1, 2, 3, 4]\n"
     ]
    }
   ],
   "source": [
    "my_list = [1, 2, 3]\n",
    "my_list.append(4)  # Modifying the list by adding an element\n",
    "print(my_list)  # Output: [1, 2, 3, 4]\n"
   ]
  },
  {
   "cell_type": "code",
   "execution_count": 22,
   "id": "102604b8-fa15-4cc4-b246-789d03070d04",
   "metadata": {},
   "outputs": [
    {
     "ename": "TypeError",
     "evalue": "'str' object does not support item assignment",
     "output_type": "error",
     "traceback": [
      "\u001b[0;31m---------------------------------------------------------------------------\u001b[0m",
      "\u001b[0;31mTypeError\u001b[0m                                 Traceback (most recent call last)",
      "Cell \u001b[0;32mIn[22], line 2\u001b[0m\n\u001b[1;32m      1\u001b[0m my_string \u001b[38;5;241m=\u001b[39m \u001b[38;5;124m\"\u001b[39m\u001b[38;5;124mHello\u001b[39m\u001b[38;5;124m\"\u001b[39m\n\u001b[0;32m----> 2\u001b[0m \u001b[43mmy_string\u001b[49m\u001b[43m[\u001b[49m\u001b[38;5;241;43m0\u001b[39;49m\u001b[43m]\u001b[49m \u001b[38;5;241m=\u001b[39m \u001b[38;5;124m\"\u001b[39m\u001b[38;5;124mJ\u001b[39m\u001b[38;5;124m\"\u001b[39m  \u001b[38;5;66;03m# Trying to modify the string (will result in an error)\u001b[39;00m\n",
      "\u001b[0;31mTypeError\u001b[0m: 'str' object does not support item assignment"
     ]
    }
   ],
   "source": [
    "my_string = \"Hello\"\n",
    "my_string[0] = \"J\"  # Trying to modify the string (will result in an error)\n"
   ]
  },
  {
   "cell_type": "code",
   "execution_count": null,
   "id": "30906086-34bb-4bd8-a15f-b90efeb771d1",
   "metadata": {},
   "outputs": [],
   "source": []
  },
  {
   "cell_type": "code",
   "execution_count": null,
   "id": "49c5479e-fbab-4244-978f-f4df3a9b8159",
   "metadata": {},
   "outputs": [],
   "source": []
  }
 ],
 "metadata": {
  "kernelspec": {
   "display_name": "Python 3 (ipykernel)",
   "language": "python",
   "name": "python3"
  },
  "language_info": {
   "codemirror_mode": {
    "name": "ipython",
    "version": 3
   },
   "file_extension": ".py",
   "mimetype": "text/x-python",
   "name": "python",
   "nbconvert_exporter": "python",
   "pygments_lexer": "ipython3",
   "version": "3.10.8"
  }
 },
 "nbformat": 4,
 "nbformat_minor": 5
}
